{
 "cells": [
  {
   "cell_type": "code",
   "execution_count": 4,
   "id": "15f6a849-3f88-42dc-b41c-8bead9fa299f",
   "metadata": {},
   "outputs": [],
   "source": [
    "import pandas as pd\n",
    "import numpy as np"
   ]
  },
  {
   "cell_type": "code",
   "execution_count": 5,
   "id": "20d7b7fb-17f0-4262-b814-d859bdb2e49f",
   "metadata": {},
   "outputs": [],
   "source": [
    "df = pd.read_csv('https://raw.githubusercontent.com/alexeygrigorev/datasets/master/car_fuel_efficiency.csv')"
   ]
  },
  {
   "cell_type": "code",
   "execution_count": 6,
   "id": "1fe83e72-7b73-4f20-8175-5a87ff972611",
   "metadata": {},
   "outputs": [
    {
     "data": {
      "text/html": [
       "<div>\n",
       "<style scoped>\n",
       "    .dataframe tbody tr th:only-of-type {\n",
       "        vertical-align: middle;\n",
       "    }\n",
       "\n",
       "    .dataframe tbody tr th {\n",
       "        vertical-align: top;\n",
       "    }\n",
       "\n",
       "    .dataframe thead th {\n",
       "        text-align: right;\n",
       "    }\n",
       "</style>\n",
       "<table border=\"1\" class=\"dataframe\">\n",
       "  <thead>\n",
       "    <tr style=\"text-align: right;\">\n",
       "      <th></th>\n",
       "      <th>engine_displacement</th>\n",
       "      <th>num_cylinders</th>\n",
       "      <th>horsepower</th>\n",
       "      <th>vehicle_weight</th>\n",
       "      <th>acceleration</th>\n",
       "      <th>model_year</th>\n",
       "      <th>origin</th>\n",
       "      <th>fuel_type</th>\n",
       "      <th>drivetrain</th>\n",
       "      <th>num_doors</th>\n",
       "      <th>fuel_efficiency_mpg</th>\n",
       "    </tr>\n",
       "  </thead>\n",
       "  <tbody>\n",
       "    <tr>\n",
       "      <th>0</th>\n",
       "      <td>170</td>\n",
       "      <td>3.0</td>\n",
       "      <td>159.0</td>\n",
       "      <td>3413.433759</td>\n",
       "      <td>17.7</td>\n",
       "      <td>2003</td>\n",
       "      <td>Europe</td>\n",
       "      <td>Gasoline</td>\n",
       "      <td>All-wheel drive</td>\n",
       "      <td>0.0</td>\n",
       "      <td>13.231729</td>\n",
       "    </tr>\n",
       "    <tr>\n",
       "      <th>1</th>\n",
       "      <td>130</td>\n",
       "      <td>5.0</td>\n",
       "      <td>97.0</td>\n",
       "      <td>3149.664934</td>\n",
       "      <td>17.8</td>\n",
       "      <td>2007</td>\n",
       "      <td>USA</td>\n",
       "      <td>Gasoline</td>\n",
       "      <td>Front-wheel drive</td>\n",
       "      <td>0.0</td>\n",
       "      <td>13.688217</td>\n",
       "    </tr>\n",
       "    <tr>\n",
       "      <th>2</th>\n",
       "      <td>170</td>\n",
       "      <td>NaN</td>\n",
       "      <td>78.0</td>\n",
       "      <td>3079.038997</td>\n",
       "      <td>15.1</td>\n",
       "      <td>2018</td>\n",
       "      <td>Europe</td>\n",
       "      <td>Gasoline</td>\n",
       "      <td>Front-wheel drive</td>\n",
       "      <td>0.0</td>\n",
       "      <td>14.246341</td>\n",
       "    </tr>\n",
       "    <tr>\n",
       "      <th>3</th>\n",
       "      <td>220</td>\n",
       "      <td>4.0</td>\n",
       "      <td>NaN</td>\n",
       "      <td>2542.392402</td>\n",
       "      <td>20.2</td>\n",
       "      <td>2009</td>\n",
       "      <td>USA</td>\n",
       "      <td>Diesel</td>\n",
       "      <td>All-wheel drive</td>\n",
       "      <td>2.0</td>\n",
       "      <td>16.912736</td>\n",
       "    </tr>\n",
       "    <tr>\n",
       "      <th>4</th>\n",
       "      <td>210</td>\n",
       "      <td>1.0</td>\n",
       "      <td>140.0</td>\n",
       "      <td>3460.870990</td>\n",
       "      <td>14.4</td>\n",
       "      <td>2009</td>\n",
       "      <td>Europe</td>\n",
       "      <td>Gasoline</td>\n",
       "      <td>All-wheel drive</td>\n",
       "      <td>2.0</td>\n",
       "      <td>12.488369</td>\n",
       "    </tr>\n",
       "  </tbody>\n",
       "</table>\n",
       "</div>"
      ],
      "text/plain": [
       "   engine_displacement  num_cylinders  horsepower  vehicle_weight  \\\n",
       "0                  170            3.0       159.0     3413.433759   \n",
       "1                  130            5.0        97.0     3149.664934   \n",
       "2                  170            NaN        78.0     3079.038997   \n",
       "3                  220            4.0         NaN     2542.392402   \n",
       "4                  210            1.0       140.0     3460.870990   \n",
       "\n",
       "   acceleration  model_year  origin fuel_type         drivetrain  num_doors  \\\n",
       "0          17.7        2003  Europe  Gasoline    All-wheel drive        0.0   \n",
       "1          17.8        2007     USA  Gasoline  Front-wheel drive        0.0   \n",
       "2          15.1        2018  Europe  Gasoline  Front-wheel drive        0.0   \n",
       "3          20.2        2009     USA    Diesel    All-wheel drive        2.0   \n",
       "4          14.4        2009  Europe  Gasoline    All-wheel drive        2.0   \n",
       "\n",
       "   fuel_efficiency_mpg  \n",
       "0            13.231729  \n",
       "1            13.688217  \n",
       "2            14.246341  \n",
       "3            16.912736  \n",
       "4            12.488369  "
      ]
     },
     "execution_count": 6,
     "metadata": {},
     "output_type": "execute_result"
    }
   ],
   "source": [
    "df.head()"
   ]
  },
  {
   "cell_type": "markdown",
   "id": "3c651cc5",
   "metadata": {},
   "source": [
    "**Preparing the dataset**\n",
    "\n",
    "Use only the following columns:\n",
    "\n",
    "-    'engine_displacement',\n",
    "-    'horsepower',\n",
    "-    'vehicle_weight',\n",
    "-    'model_year',\n",
    "-    'fuel_efficiency_mpg'\n"
   ]
  },
  {
   "cell_type": "markdown",
   "id": "544d28ef",
   "metadata": {},
   "source": [
    "**EDA**\n",
    "\n",
    "    Look at the fuel_efficiency_mpg variable. Does it have a long tail?"
   ]
  },
  {
   "cell_type": "markdown",
   "id": "48206c51-62de-4c9e-bab7-c9a8259db55f",
   "metadata": {},
   "source": [
    "# Q1."
   ]
  },
  {
   "cell_type": "markdown",
   "id": "b9ebaf3d-6389-4a76-bc68-1795f854b96b",
   "metadata": {},
   "source": [
    "There's one column with missing values. What is it?"
   ]
  },
  {
   "cell_type": "markdown",
   "id": "48844113-9466-48c5-8c25-678583766425",
   "metadata": {},
   "source": [
    "# Q2."
   ]
  },
  {
   "cell_type": "markdown",
   "id": "52553675-9af7-4653-90a1-bb4827d67eb1",
   "metadata": {},
   "source": [
    "What's the median (50% percentile) for variable 'horsepower'?"
   ]
  },
  {
   "cell_type": "markdown",
   "id": "528fc292",
   "metadata": {},
   "source": [
    "**Prepare and split the dataset**\n",
    "\n",
    "-    Shuffle the dataset (the filtered one you created above), use seed 42.\n",
    "-    Split your data in train/val/test sets, with 60%/20%/20% distribution.\n",
    "\n",
    "Use the same code as in the lectures"
   ]
  },
  {
   "cell_type": "markdown",
   "id": "704938b8-66be-4f0a-9cee-e7469fd30387",
   "metadata": {},
   "source": [
    "# Q3."
   ]
  },
  {
   "cell_type": "markdown",
   "id": "56a85cd2-19b4-493d-8be2-8be7ba5de787",
   "metadata": {},
   "source": [
    "\n",
    "-    We need to deal with missing values for the column from Q1.\n",
    "-    We have two options: fill it with 0 or with the mean of this variable.\n",
    "-    Try both options. For each, train a linear regression model without regularization using the code from the lessons.\n",
    "-    For computing the mean, use the training only!\n",
    "-    Use the validation dataset to evaluate the models and compare the RMSE of each option.\n",
    "-    Round the RMSE scores to 2 decimal digits using round(score, 2)\n",
    "-    Which option gives better RMSE?\n",
    "\n",
    "Options:\n",
    "\n",
    "-    With 0\n",
    "-    With mean\n",
    "-    Both are equally good"
   ]
  },
  {
   "cell_type": "markdown",
   "id": "fa06cbef-9c7a-4bc2-bb6d-9e09a0b7b58b",
   "metadata": {},
   "source": [
    "# Q4."
   ]
  },
  {
   "cell_type": "markdown",
   "id": "058605d8-a1c6-4dc0-835d-78034c2d85d4",
   "metadata": {},
   "source": [
    "\n",
    "-    Now let's train a regularized linear regression.\n",
    "-    For this question, fill the NAs with 0.\n",
    "-    Try different values of r from this list: [0, 0.01, 0.1, 1, 5, 10, 100].\n",
    "-    Use RMSE to evaluate the model on the validation dataset.\n",
    "-    Round the RMSE scores to 2 decimal digits.\n",
    "-    Which r gives the best RMSE?\n",
    "\n",
    "If there are multiple options, select the smallest r.\n",
    "\n",
    "Options:\n",
    "\n",
    "-    0\n",
    "-    0.01\n",
    "-    1\n",
    "-    10\n",
    "-    100"
   ]
  },
  {
   "cell_type": "markdown",
   "id": "4ce4966c-40e7-43f8-bec6-84caabcf0cdd",
   "metadata": {},
   "source": [
    "# Q5."
   ]
  },
  {
   "cell_type": "markdown",
   "id": "969cbc39-a720-49b6-a97f-1aa910718739",
   "metadata": {},
   "source": [
    "\n",
    "-    We used seed 42 for splitting the data. Let's find out how selecting the seed influences our score.\n",
    "-    Try different seed values: [0, 1, 2, 3, 4, 5, 6, 7, 8, 9].\n",
    "-    For each seed, do the train/validation/test split with 60%/20%/20% distribution.\n",
    "-    Fill the missing values with 0 and train a model without regularization.\n",
    "-    For each seed, evaluate the model on the validation dataset and collect the RMSE scores.\n",
    "-    What's the standard deviation of all the scores? To compute the standard deviation, use np.std.\n",
    "-    Round the result to 3 decimal digits (round(std, 3))\n",
    "\n",
    "What's the value of std?\n",
    "\n",
    "-    0.001\n",
    "-    0.006\n",
    "-    0.060\n",
    "-    0.600\n",
    "\n",
    "    Note: Standard deviation shows how different the values are. If it's low, then all values are approximately the same. If it's high, the values are different. If standard deviation of scores is low, then our model is stable."
   ]
  },
  {
   "cell_type": "markdown",
   "id": "1e6c2479-89d9-43ab-bf50-037aee4ccccc",
   "metadata": {},
   "source": [
    "# Q6."
   ]
  },
  {
   "cell_type": "markdown",
   "id": "aeb93522-f4fd-43a4-bbce-950937819a34",
   "metadata": {},
   "source": [
    "\n",
    "-    Split the dataset like previously, use seed 9.\n",
    "-    Combine train and validation datasets.\n",
    "-    Fill the missing values with 0 and train a model with r=0.001.\n",
    "-    What's the RMSE on the test dataset?\n",
    "\n",
    "Options:\n",
    "\n",
    "-    0.15\n",
    "-    0.515\n",
    "-    5.15\n",
    "-    51.5"
   ]
  }
 ],
 "metadata": {
  "kernelspec": {
   "display_name": "Python 3",
   "language": "python",
   "name": "python3"
  },
  "language_info": {
   "codemirror_mode": {
    "name": "ipython",
    "version": 3
   },
   "file_extension": ".py",
   "mimetype": "text/x-python",
   "name": "python",
   "nbconvert_exporter": "python",
   "pygments_lexer": "ipython3",
   "version": "3.12.1"
  }
 },
 "nbformat": 4,
 "nbformat_minor": 5
}
